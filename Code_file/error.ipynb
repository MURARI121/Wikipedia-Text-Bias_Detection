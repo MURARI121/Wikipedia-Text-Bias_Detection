{
 "cells": [
  {
   "cell_type": "code",
   "execution_count": 1,
   "metadata": {},
   "outputs": [],
   "source": [
    "import numpy as np \n",
    "import pandas as pd"
   ]
  },
  {
   "cell_type": "code",
   "execution_count": 2,
   "metadata": {},
   "outputs": [],
   "source": [
    "from sklearn.metrics import mean_absolute_error, mean_squared_error\n",
    "from sklearn.tree import DecisionTreeRegressor\n",
    "from sklearn.ensemble import RandomForestRegressor\n",
    "from sklearn import preprocessing\n",
    "from sklearn.impute import SimpleImputer\n",
    "# import xgboost as xgb\n",
    "from sklearn.ensemble.partial_dependence import partial_dependence, plot_partial_dependence\n",
    "from sklearn.ensemble import GradientBoostingRegressor\n",
    "from sklearn.pipeline import make_pipeline\n",
    "from sklearn.model_selection import KFold, cross_val_score, train_test_split\n",
    "from sklearn.linear_model import LogisticRegression\n",
    "from sklearn.metrics import confusion_matrix\n",
    "from xgboost import XGBClassifier\n",
    "from xgboost import plot_importance"
   ]
  },
  {
   "cell_type": "code",
   "execution_count": 3,
   "metadata": {},
   "outputs": [],
   "source": [
    "result= pd.read_csv(\"../Data/result.csv\")"
   ]
  },
  {
   "cell_type": "code",
   "execution_count": 4,
   "metadata": {},
   "outputs": [
    {
     "data": {
      "text/html": [
       "<div>\n",
       "<style scoped>\n",
       "    .dataframe tbody tr th:only-of-type {\n",
       "        vertical-align: middle;\n",
       "    }\n",
       "\n",
       "    .dataframe tbody tr th {\n",
       "        vertical-align: top;\n",
       "    }\n",
       "\n",
       "    .dataframe thead th {\n",
       "        text-align: right;\n",
       "    }\n",
       "</style>\n",
       "<table border=\"1\" class=\"dataframe\">\n",
       "  <thead>\n",
       "    <tr style=\"text-align: right;\">\n",
       "      <th></th>\n",
       "      <th>before</th>\n",
       "      <th>after</th>\n",
       "      <th>biased</th>\n",
       "      <th>top1</th>\n",
       "      <th>top2</th>\n",
       "      <th>top3</th>\n",
       "    </tr>\n",
       "  </thead>\n",
       "  <tbody>\n",
       "    <tr>\n",
       "      <th>0</th>\n",
       "      <td>in ostrobothnia leipjuusto is called juustolei...</td>\n",
       "      <td>in ostrobothnia leipjuusto is called juustolei...</td>\n",
       "      <td>fine</td>\n",
       "      <td>fine</td>\n",
       "      <td>ostrobothnia</td>\n",
       "      <td>commonly</td>\n",
       "    </tr>\n",
       "    <tr>\n",
       "      <th>1</th>\n",
       "      <td>it is located along the beautiful gt road made...</td>\n",
       "      <td>it is located along the gt road made by sher s...</td>\n",
       "      <td>beautiful</td>\n",
       "      <td>beautiful</td>\n",
       "      <td>shah</td>\n",
       "      <td>gt</td>\n",
       "    </tr>\n",
       "    <tr>\n",
       "      <th>2</th>\n",
       "      <td>parmenion also parmenio c 400 – ecbatana 330 b...</td>\n",
       "      <td>parmenion also parmenio c 400 – ecbatana 330 b...</td>\n",
       "      <td>murdered</td>\n",
       "      <td>false</td>\n",
       "      <td>murdered</td>\n",
       "      <td>great</td>\n",
       "    </tr>\n",
       "    <tr>\n",
       "      <th>3</th>\n",
       "      <td>it was commonly suggested that the choice of r...</td>\n",
       "      <td>it was commonly suggested that the choice of r...</td>\n",
       "      <td>stellar</td>\n",
       "      <td>stellar</td>\n",
       "      <td>choice</td>\n",
       "      <td>unfortunate</td>\n",
       "    </tr>\n",
       "    <tr>\n",
       "      <th>4</th>\n",
       "      <td>victoria also known as vitruvia was a leader i...</td>\n",
       "      <td>victoria also known as vitruvia was a leader i...</td>\n",
       "      <td>so-called</td>\n",
       "      <td>so-called</td>\n",
       "      <td>gallic</td>\n",
       "      <td>leader</td>\n",
       "    </tr>\n",
       "    <tr>\n",
       "      <th>...</th>\n",
       "      <td>...</td>\n",
       "      <td>...</td>\n",
       "      <td>...</td>\n",
       "      <td>...</td>\n",
       "      <td>...</td>\n",
       "      <td>...</td>\n",
       "    </tr>\n",
       "    <tr>\n",
       "      <th>10774</th>\n",
       "      <td>in april 2008 acting virgin ceo neil berkett s...</td>\n",
       "      <td>in april 2008 acting virgin ceo neil berkett s...</td>\n",
       "      <td>television</td>\n",
       "      <td>neutrality</td>\n",
       "      <td>virgin</td>\n",
       "      <td>sparked</td>\n",
       "    </tr>\n",
       "    <tr>\n",
       "      <th>10775</th>\n",
       "      <td>the national lawyers guild is a progressive /l...</td>\n",
       "      <td>the national lawyers guild is a progressive ba...</td>\n",
       "      <td>/left-wing</td>\n",
       "      <td>progressive</td>\n",
       "      <td>progressive</td>\n",
       "      <td>/left-wing</td>\n",
       "    </tr>\n",
       "    <tr>\n",
       "      <th>10776</th>\n",
       "      <td>a plan to redevelop the old tiger stadium site...</td>\n",
       "      <td>a plan to redevelop the old tiger stadium site...</td>\n",
       "      <td>now-vibrant</td>\n",
       "      <td>historic</td>\n",
       "      <td>now-vibrant</td>\n",
       "      <td>10-acre</td>\n",
       "    </tr>\n",
       "    <tr>\n",
       "      <th>10777</th>\n",
       "      <td>instrumentally lifeson is regarded as a virtuo...</td>\n",
       "      <td>instrumentally lifeson is regarded as a guitar...</td>\n",
       "      <td>virtuoso</td>\n",
       "      <td>virtuoso</td>\n",
       "      <td>unorthodox</td>\n",
       "      <td>copious</td>\n",
       "    </tr>\n",
       "    <tr>\n",
       "      <th>10778</th>\n",
       "      <td>flynt joined the us army in 1958 at only fifte...</td>\n",
       "      <td>flynt joined the us army in 1958 at only fifte...</td>\n",
       "      <td>lasting</td>\n",
       "      <td>barely</td>\n",
       "      <td>joined</td>\n",
       "      <td>flynt</td>\n",
       "    </tr>\n",
       "  </tbody>\n",
       "</table>\n",
       "<p>10779 rows × 6 columns</p>\n",
       "</div>"
      ],
      "text/plain": [
       "                                                  before  \\\n",
       "0      in ostrobothnia leipjuusto is called juustolei...   \n",
       "1      it is located along the beautiful gt road made...   \n",
       "2      parmenion also parmenio c 400 – ecbatana 330 b...   \n",
       "3      it was commonly suggested that the choice of r...   \n",
       "4      victoria also known as vitruvia was a leader i...   \n",
       "...                                                  ...   \n",
       "10774  in april 2008 acting virgin ceo neil berkett s...   \n",
       "10775  the national lawyers guild is a progressive /l...   \n",
       "10776  a plan to redevelop the old tiger stadium site...   \n",
       "10777  instrumentally lifeson is regarded as a virtuo...   \n",
       "10778  flynt joined the us army in 1958 at only fifte...   \n",
       "\n",
       "                                                   after       biased  \\\n",
       "0      in ostrobothnia leipjuusto is called juustolei...         fine   \n",
       "1      it is located along the gt road made by sher s...    beautiful   \n",
       "2      parmenion also parmenio c 400 – ecbatana 330 b...     murdered   \n",
       "3      it was commonly suggested that the choice of r...      stellar   \n",
       "4      victoria also known as vitruvia was a leader i...    so-called   \n",
       "...                                                  ...          ...   \n",
       "10774  in april 2008 acting virgin ceo neil berkett s...   television   \n",
       "10775  the national lawyers guild is a progressive ba...   /left-wing   \n",
       "10776  a plan to redevelop the old tiger stadium site...  now-vibrant   \n",
       "10777  instrumentally lifeson is regarded as a guitar...     virtuoso   \n",
       "10778  flynt joined the us army in 1958 at only fifte...      lasting   \n",
       "\n",
       "              top1          top2         top3  \n",
       "0             fine  ostrobothnia     commonly  \n",
       "1        beautiful          shah           gt  \n",
       "2            false      murdered        great  \n",
       "3          stellar        choice  unfortunate  \n",
       "4        so-called        gallic       leader  \n",
       "...            ...           ...          ...  \n",
       "10774   neutrality        virgin      sparked  \n",
       "10775  progressive   progressive   /left-wing  \n",
       "10776     historic   now-vibrant      10-acre  \n",
       "10777     virtuoso    unorthodox      copious  \n",
       "10778       barely        joined        flynt  \n",
       "\n",
       "[10779 rows x 6 columns]"
      ]
     },
     "execution_count": 4,
     "metadata": {},
     "output_type": "execute_result"
    }
   ],
   "source": [
    "result"
   ]
  },
  {
   "cell_type": "code",
   "execution_count": 5,
   "metadata": {},
   "outputs": [],
   "source": [
    "unmatched1=[]\n",
    "for i in range(len(result)):\n",
    "    if(result['biased'][i]!=result['top1'][i]):\n",
    "        unmatched1.append(result['biased'][i])\n",
    "    "
   ]
  },
  {
   "cell_type": "code",
   "execution_count": 6,
   "metadata": {},
   "outputs": [
    {
     "data": {
      "text/plain": [
       "10779"
      ]
     },
     "execution_count": 6,
     "metadata": {},
     "output_type": "execute_result"
    }
   ],
   "source": [
    "len(result)"
   ]
  },
  {
   "cell_type": "code",
   "execution_count": 7,
   "metadata": {},
   "outputs": [
    {
     "data": {
      "text/plain": [
       "3450"
      ]
     },
     "execution_count": 7,
     "metadata": {},
     "output_type": "execute_result"
    }
   ],
   "source": [
    "len(unmatched1)"
   ]
  },
  {
   "cell_type": "code",
   "execution_count": 8,
   "metadata": {},
   "outputs": [],
   "source": [
    "unmatched2=[]\n",
    "for i in range(len(result)):\n",
    "    if((result['biased'][i]!=result['top1'][i])&(result['biased'][i]!=result['top2'][i])):\n",
    "        unmatched2.append(result['biased'][i])\n",
    "    "
   ]
  },
  {
   "cell_type": "code",
   "execution_count": 9,
   "metadata": {},
   "outputs": [
    {
     "data": {
      "text/plain": [
       "2119"
      ]
     },
     "execution_count": 9,
     "metadata": {},
     "output_type": "execute_result"
    }
   ],
   "source": [
    "len(unmatched2)"
   ]
  },
  {
   "cell_type": "code",
   "execution_count": 10,
   "metadata": {},
   "outputs": [],
   "source": [
    "unmatched3=[]\n",
    "for i in range(len(result)):\n",
    "    if((result['biased'][i]!=result['top1'][i])&(result['biased'][i]!=result['top2'][i])&(result['biased'][i]!=result['top3'][i])):\n",
    "        unmatched3.append([result['biased'][i],i])\n",
    "    "
   ]
  },
  {
   "cell_type": "code",
   "execution_count": 11,
   "metadata": {},
   "outputs": [
    {
     "data": {
      "text/plain": [
       "1492"
      ]
     },
     "execution_count": 11,
     "metadata": {},
     "output_type": "execute_result"
    }
   ],
   "source": [
    "len(unmatched3)"
   ]
  },
  {
   "cell_type": "code",
   "execution_count": 12,
   "metadata": {},
   "outputs": [],
   "source": [
    "x = pd.DataFrame(unmatched3)\n",
    "count=x[0].value_counts()"
   ]
  },
  {
   "cell_type": "code",
   "execution_count": 14,
   "metadata": {},
   "outputs": [
    {
     "data": {
      "text/html": [
       "<div>\n",
       "<style scoped>\n",
       "    .dataframe tbody tr th:only-of-type {\n",
       "        vertical-align: middle;\n",
       "    }\n",
       "\n",
       "    .dataframe tbody tr th {\n",
       "        vertical-align: top;\n",
       "    }\n",
       "\n",
       "    .dataframe thead th {\n",
       "        text-align: right;\n",
       "    }\n",
       "</style>\n",
       "<table border=\"1\" class=\"dataframe\">\n",
       "  <thead>\n",
       "    <tr style=\"text-align: right;\">\n",
       "      <th></th>\n",
       "      <th>0</th>\n",
       "      <th>1</th>\n",
       "    </tr>\n",
       "  </thead>\n",
       "  <tbody>\n",
       "    <tr>\n",
       "      <th>0</th>\n",
       "      <td>islamic</td>\n",
       "      <td>32</td>\n",
       "    </tr>\n",
       "    <tr>\n",
       "      <th>1</th>\n",
       "      <td>arguing</td>\n",
       "      <td>72</td>\n",
       "    </tr>\n",
       "    <tr>\n",
       "      <th>2</th>\n",
       "      <td>panel</td>\n",
       "      <td>75</td>\n",
       "    </tr>\n",
       "    <tr>\n",
       "      <th>3</th>\n",
       "      <td>varangians</td>\n",
       "      <td>83</td>\n",
       "    </tr>\n",
       "    <tr>\n",
       "      <th>4</th>\n",
       "      <td>minority</td>\n",
       "      <td>92</td>\n",
       "    </tr>\n",
       "    <tr>\n",
       "      <th>...</th>\n",
       "      <td>...</td>\n",
       "      <td>...</td>\n",
       "    </tr>\n",
       "    <tr>\n",
       "      <th>1487</th>\n",
       "      <td>achieved</td>\n",
       "      <td>10754</td>\n",
       "    </tr>\n",
       "    <tr>\n",
       "      <th>1488</th>\n",
       "      <td>factions</td>\n",
       "      <td>10766</td>\n",
       "    </tr>\n",
       "    <tr>\n",
       "      <th>1489</th>\n",
       "      <td>men</td>\n",
       "      <td>10768</td>\n",
       "    </tr>\n",
       "    <tr>\n",
       "      <th>1490</th>\n",
       "      <td>television</td>\n",
       "      <td>10774</td>\n",
       "    </tr>\n",
       "    <tr>\n",
       "      <th>1491</th>\n",
       "      <td>lasting</td>\n",
       "      <td>10778</td>\n",
       "    </tr>\n",
       "  </tbody>\n",
       "</table>\n",
       "<p>1492 rows × 2 columns</p>\n",
       "</div>"
      ],
      "text/plain": [
       "               0      1\n",
       "0        islamic     32\n",
       "1        arguing     72\n",
       "2          panel     75\n",
       "3     varangians     83\n",
       "4       minority     92\n",
       "...          ...    ...\n",
       "1487    achieved  10754\n",
       "1488    factions  10766\n",
       "1489         men  10768\n",
       "1490  television  10774\n",
       "1491     lasting  10778\n",
       "\n",
       "[1492 rows x 2 columns]"
      ]
     },
     "execution_count": 14,
     "metadata": {},
     "output_type": "execute_result"
    }
   ],
   "source": [
    "x"
   ]
  },
  {
   "cell_type": "code",
   "execution_count": 13,
   "metadata": {},
   "outputs": [
    {
     "data": {
      "text/plain": [
       "gnu/            9\n",
       "many            7\n",
       "american        6\n",
       "political       5\n",
       "nearly          5\n",
       "               ..\n",
       "wrote           1\n",
       "war             1\n",
       "unilaterally    1\n",
       "men             1\n",
       "stealng         1\n",
       "Name: 0, Length: 1250, dtype: int64"
      ]
     },
     "execution_count": 13,
     "metadata": {},
     "output_type": "execute_result"
    }
   ],
   "source": [
    "count"
   ]
  },
  {
   "cell_type": "code",
   "execution_count": 15,
   "metadata": {},
   "outputs": [],
   "source": [
    "x.to_csv('../trained_model/unmatched_word_after_Top3.csv')"
   ]
  },
  {
   "cell_type": "code",
   "execution_count": 16,
   "metadata": {},
   "outputs": [],
   "source": [
    "count.to_csv('../trained_model/count_unmatched.csv')"
   ]
  },
  {
   "cell_type": "code",
   "execution_count": 17,
   "metadata": {},
   "outputs": [],
   "source": [
    "# i=0\n",
    "# for i in range(len(result)):\n",
    "#     if(result['biased'][i]=='the'):\n",
    "#         print(i)\n",
    "#         break"
   ]
  },
  {
   "cell_type": "code",
   "execution_count": 18,
   "metadata": {},
   "outputs": [
    {
     "data": {
      "text/plain": [
       "gnu/            9\n",
       "many            7\n",
       "american        6\n",
       "political       5\n",
       "nearly          5\n",
       "               ..\n",
       "wrote           1\n",
       "war             1\n",
       "unilaterally    1\n",
       "men             1\n",
       "stealng         1\n",
       "Name: 0, Length: 1250, dtype: int64"
      ]
     },
     "execution_count": 18,
     "metadata": {},
     "output_type": "execute_result"
    }
   ],
   "source": [
    "count"
   ]
  },
  {
   "cell_type": "code",
   "execution_count": 19,
   "metadata": {},
   "outputs": [],
   "source": [
    "biased=x[0]"
   ]
  },
  {
   "cell_type": "code",
   "execution_count": 20,
   "metadata": {},
   "outputs": [
    {
     "data": {
      "text/plain": [
       "0          islamic\n",
       "1          arguing\n",
       "2            panel\n",
       "3       varangians\n",
       "4         minority\n",
       "           ...    \n",
       "1487      achieved\n",
       "1488      factions\n",
       "1489           men\n",
       "1490    television\n",
       "1491       lasting\n",
       "Name: 0, Length: 1492, dtype: object"
      ]
     },
     "execution_count": 20,
     "metadata": {},
     "output_type": "execute_result"
    }
   ],
   "source": [
    "biased"
   ]
  },
  {
   "cell_type": "code",
   "execution_count": null,
   "metadata": {},
   "outputs": [],
   "source": []
  }
 ],
 "metadata": {
  "kernelspec": {
   "display_name": "Python [conda env:kaggle] *",
   "language": "python",
   "name": "conda-env-kaggle-py"
  },
  "language_info": {
   "codemirror_mode": {
    "name": "ipython",
    "version": 3
   },
   "file_extension": ".py",
   "mimetype": "text/x-python",
   "name": "python",
   "nbconvert_exporter": "python",
   "pygments_lexer": "ipython3",
   "version": "3.7.6"
  }
 },
 "nbformat": 4,
 "nbformat_minor": 4
}
