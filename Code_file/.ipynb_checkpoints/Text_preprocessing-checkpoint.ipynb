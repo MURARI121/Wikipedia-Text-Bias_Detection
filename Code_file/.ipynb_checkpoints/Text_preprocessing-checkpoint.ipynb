{
 "cells": [
  {
   "cell_type": "code",
   "execution_count": 1,
   "metadata": {},
   "outputs": [],
   "source": [
    "import numpy as np # linear algebra\n",
    "import pandas as pd\n",
    "import nltk\n",
    "import string\n",
    "from nltk.corpus import stopwords\n",
    "from nltk import sent_tokenize, word_tokenize, TweetTokenizer \n",
    "from nltk import word_tokenize\n",
    "from nltk.stem import WordNetLemmatizer\n",
    "import re\n",
    "wordnet_lemmatizer = WordNetLemmatizer()\n",
    "import spacy\n",
    "# nlp = spacy.load('en_core_web_sm')\n",
    "from afinn import Afinn\n",
    "af = Afinn()"
   ]
  },
  {
   "cell_type": "code",
   "execution_count": 2,
   "metadata": {},
   "outputs": [],
   "source": [
    "train = pd.read_csv(\"../Data/biased.word.train\",delimiter='\\t',encoding='utf-8',header=None)"
   ]
  },
  {
   "cell_type": "code",
   "execution_count": 3,
   "metadata": {},
   "outputs": [],
   "source": [
    "train_data=train.iloc[:,3:5]\n",
    "train_data.columns=['before','after']\n",
    "train_data.to_csv(\"../Data/train_data.csv\",index=None)"
   ]
  },
  {
   "cell_type": "code",
   "execution_count": 4,
   "metadata": {},
   "outputs": [],
   "source": [
    "def preprocess(text):\n",
    "    text = re.sub('[()!@#$.,;\"]/\\'', '', text)\n",
    "    text = text.lower()\n",
    "    text = text.split()\n",
    "    text = ' '.join(text)\n",
    "    text =text.strip()\n",
    "    return text"
   ]
  },
  {
   "cell_type": "code",
   "execution_count": 5,
   "metadata": {},
   "outputs": [],
   "source": [
    "X=[]\n",
    "Y=[]"
   ]
  },
  {
   "cell_type": "code",
   "execution_count": 6,
   "metadata": {},
   "outputs": [],
   "source": [
    "for i in range(len(train_data)):\n",
    "    X.append(preprocess(train_data['before'][i]))\n",
    "    Y.append(preprocess(train_data['after'][i]))\n"
   ]
  },
  {
   "cell_type": "code",
   "execution_count": 7,
   "metadata": {},
   "outputs": [],
   "source": [
    "text_preprocessed=pd.DataFrame(X,columns=[\"before\"])\n",
    "text_preprocessed[\"after\"]=Y"
   ]
  },
  {
   "cell_type": "code",
   "execution_count": 8,
   "metadata": {},
   "outputs": [],
   "source": [
    "biased=[]\n",
    "count=-1\n",
    "c=[]\n",
    "for i in range(len(text_preprocessed)):\n",
    "    b=text_preprocessed['before'][i].split()\n",
    "    a=text_preprocessed['after'][i].split()\n",
    "    l1=len(b) if(len(b)<=len(a)) else len(a)\n",
    "    for j in range(l1):\n",
    "        if (b[j]!=a[j]):\n",
    "            biased.append(b[j])\n",
    "            count=i\n",
    "            break\n",
    "    if(count!=i):\n",
    "        biased.append(b[len(b)-1])\n",
    "            "
   ]
  },
  {
   "cell_type": "code",
   "execution_count": 9,
   "metadata": {},
   "outputs": [],
   "source": [
    "from nltk.corpus import stopwords\n",
    "stop_words = set(stopwords.words('english')) "
   ]
  },
  {
   "cell_type": "code",
   "execution_count": 10,
   "metadata": {},
   "outputs": [],
   "source": [
    "truth=pd.DataFrame(biased)\n",
    "truth.columns=['biased']"
   ]
  },
  {
   "cell_type": "code",
   "execution_count": 12,
   "metadata": {},
   "outputs": [],
   "source": [
    "text_processed2=[]\n",
    "truth2=[]\n",
    "for i in range(len(truth)):\n",
    "    if not truth['biased'][i] in stop_words:\n",
    "        text_processed2.append(text_preprocessed.iloc[i])\n",
    "        truth2.append(truth.iloc[i])"
   ]
  },
  {
   "cell_type": "code",
   "execution_count": 13,
   "metadata": {},
   "outputs": [],
   "source": [
    "text_processed2=pd.DataFrame(text_processed2,columns=[\"before\",\"after\"])\n",
    "truth2=pd.DataFrame(truth2)\n",
    "truth2.columns=['biased']"
   ]
  },
  {
   "cell_type": "code",
   "execution_count": 15,
   "metadata": {},
   "outputs": [
    {
     "data": {
      "text/html": [
       "<div>\n",
       "<style scoped>\n",
       "    .dataframe tbody tr th:only-of-type {\n",
       "        vertical-align: middle;\n",
       "    }\n",
       "\n",
       "    .dataframe tbody tr th {\n",
       "        vertical-align: top;\n",
       "    }\n",
       "\n",
       "    .dataframe thead th {\n",
       "        text-align: right;\n",
       "    }\n",
       "</style>\n",
       "<table border=\"1\" class=\"dataframe\">\n",
       "  <thead>\n",
       "    <tr style=\"text-align: right;\">\n",
       "      <th></th>\n",
       "      <th>biased</th>\n",
       "    </tr>\n",
       "  </thead>\n",
       "  <tbody>\n",
       "    <tr>\n",
       "      <th>0</th>\n",
       "      <td>interesting</td>\n",
       "    </tr>\n",
       "    <tr>\n",
       "      <th>1</th>\n",
       "      <td>controversial</td>\n",
       "    </tr>\n",
       "    <tr>\n",
       "      <th>2</th>\n",
       "      <td>supremely</td>\n",
       "    </tr>\n",
       "    <tr>\n",
       "      <th>3</th>\n",
       "      <td>master</td>\n",
       "    </tr>\n",
       "    <tr>\n",
       "      <th>4</th>\n",
       "      <td>cena</td>\n",
       "    </tr>\n",
       "    <tr>\n",
       "      <th>...</th>\n",
       "      <td>...</td>\n",
       "    </tr>\n",
       "    <tr>\n",
       "      <th>50778</th>\n",
       "      <td>television</td>\n",
       "    </tr>\n",
       "    <tr>\n",
       "      <th>50779</th>\n",
       "      <td>/left-wing</td>\n",
       "    </tr>\n",
       "    <tr>\n",
       "      <th>50780</th>\n",
       "      <td>now-vibrant</td>\n",
       "    </tr>\n",
       "    <tr>\n",
       "      <th>50781</th>\n",
       "      <td>virtuoso</td>\n",
       "    </tr>\n",
       "    <tr>\n",
       "      <th>50782</th>\n",
       "      <td>lasting</td>\n",
       "    </tr>\n",
       "  </tbody>\n",
       "</table>\n",
       "<p>50783 rows × 1 columns</p>\n",
       "</div>"
      ],
      "text/plain": [
       "              biased\n",
       "0        interesting\n",
       "1      controversial\n",
       "2          supremely\n",
       "3             master\n",
       "4               cena\n",
       "...              ...\n",
       "50778     television\n",
       "50779     /left-wing\n",
       "50780    now-vibrant\n",
       "50781       virtuoso\n",
       "50782        lasting\n",
       "\n",
       "[50783 rows x 1 columns]"
      ]
     },
     "execution_count": 15,
     "metadata": {},
     "output_type": "execute_result"
    }
   ],
   "source": [
    "truth2=truth2.reset_index(drop=True)\n",
    "truth2"
   ]
  },
  {
   "cell_type": "code",
   "execution_count": 16,
   "metadata": {},
   "outputs": [
    {
     "data": {
      "text/html": [
       "<div>\n",
       "<style scoped>\n",
       "    .dataframe tbody tr th:only-of-type {\n",
       "        vertical-align: middle;\n",
       "    }\n",
       "\n",
       "    .dataframe tbody tr th {\n",
       "        vertical-align: top;\n",
       "    }\n",
       "\n",
       "    .dataframe thead th {\n",
       "        text-align: right;\n",
       "    }\n",
       "</style>\n",
       "<table border=\"1\" class=\"dataframe\">\n",
       "  <thead>\n",
       "    <tr style=\"text-align: right;\">\n",
       "      <th></th>\n",
       "      <th>before</th>\n",
       "      <th>after</th>\n",
       "    </tr>\n",
       "  </thead>\n",
       "  <tbody>\n",
       "    <tr>\n",
       "      <th>0</th>\n",
       "      <td>chloroform \"the molecular lifesaver\" an articl...</td>\n",
       "      <td>chloroform \"the molecular lifesaver\" an articl...</td>\n",
       "    </tr>\n",
       "    <tr>\n",
       "      <th>1</th>\n",
       "      <td>other campaigners, especially the controversia...</td>\n",
       "      <td>other campaigners, especially the british acti...</td>\n",
       "    </tr>\n",
       "    <tr>\n",
       "      <th>2</th>\n",
       "      <td>vocalist rob halford's performance is consider...</td>\n",
       "      <td>vocalist rob halford's performance is consider...</td>\n",
       "    </tr>\n",
       "    <tr>\n",
       "      <th>3</th>\n",
       "      <td>the proud general is a chinese animated featur...</td>\n",
       "      <td>the proud general is a chinese animated featur...</td>\n",
       "    </tr>\n",
       "    <tr>\n",
       "      <th>4</th>\n",
       "      <td>melina is currently dating john cena , known a...</td>\n",
       "      <td>melina is currently dating john hennigan , kno...</td>\n",
       "    </tr>\n",
       "    <tr>\n",
       "      <th>...</th>\n",
       "      <td>...</td>\n",
       "      <td>...</td>\n",
       "    </tr>\n",
       "    <tr>\n",
       "      <th>50778</th>\n",
       "      <td>in april 2008, acting virgin ceo neil berkett ...</td>\n",
       "      <td>in april 2008, acting virgin ceo neil berkett ...</td>\n",
       "    </tr>\n",
       "    <tr>\n",
       "      <th>50779</th>\n",
       "      <td>the national lawyers guild is a progressive /l...</td>\n",
       "      <td>the national lawyers guild is a progressive ba...</td>\n",
       "    </tr>\n",
       "    <tr>\n",
       "      <th>50780</th>\n",
       "      <td>a plan to redevelop the old tiger stadium site...</td>\n",
       "      <td>a plan to redevelop the old tiger stadium site...</td>\n",
       "    </tr>\n",
       "    <tr>\n",
       "      <th>50781</th>\n",
       "      <td>instrumentally, lifeson is regarded as a virtu...</td>\n",
       "      <td>instrumentally, lifeson is regarded as a guita...</td>\n",
       "    </tr>\n",
       "    <tr>\n",
       "      <th>50782</th>\n",
       "      <td>flynt joined the us army in 1958 at only fifte...</td>\n",
       "      <td>flynt joined the us army in 1958 at only fifte...</td>\n",
       "    </tr>\n",
       "  </tbody>\n",
       "</table>\n",
       "<p>50783 rows × 2 columns</p>\n",
       "</div>"
      ],
      "text/plain": [
       "                                                  before  \\\n",
       "0      chloroform \"the molecular lifesaver\" an articl...   \n",
       "1      other campaigners, especially the controversia...   \n",
       "2      vocalist rob halford's performance is consider...   \n",
       "3      the proud general is a chinese animated featur...   \n",
       "4      melina is currently dating john cena , known a...   \n",
       "...                                                  ...   \n",
       "50778  in april 2008, acting virgin ceo neil berkett ...   \n",
       "50779  the national lawyers guild is a progressive /l...   \n",
       "50780  a plan to redevelop the old tiger stadium site...   \n",
       "50781  instrumentally, lifeson is regarded as a virtu...   \n",
       "50782  flynt joined the us army in 1958 at only fifte...   \n",
       "\n",
       "                                                   after  \n",
       "0      chloroform \"the molecular lifesaver\" an articl...  \n",
       "1      other campaigners, especially the british acti...  \n",
       "2      vocalist rob halford's performance is consider...  \n",
       "3      the proud general is a chinese animated featur...  \n",
       "4      melina is currently dating john hennigan , kno...  \n",
       "...                                                  ...  \n",
       "50778  in april 2008, acting virgin ceo neil berkett ...  \n",
       "50779  the national lawyers guild is a progressive ba...  \n",
       "50780  a plan to redevelop the old tiger stadium site...  \n",
       "50781  instrumentally, lifeson is regarded as a guita...  \n",
       "50782  flynt joined the us army in 1958 at only fifte...  \n",
       "\n",
       "[50783 rows x 2 columns]"
      ]
     },
     "execution_count": 16,
     "metadata": {},
     "output_type": "execute_result"
    }
   ],
   "source": [
    "text_processed2=text_processed2.reset_index(drop=True)\n",
    "text_processed2"
   ]
  },
  {
   "cell_type": "code",
   "execution_count": 17,
   "metadata": {},
   "outputs": [],
   "source": [
    "text_processed2.to_csv('../Data/text_processed.csv',index=None)"
   ]
  },
  {
   "cell_type": "code",
   "execution_count": 18,
   "metadata": {},
   "outputs": [],
   "source": [
    "truth2.to_csv('../Data/ground_truth.csv',index=None)"
   ]
  },
  {
   "cell_type": "code",
   "execution_count": null,
   "metadata": {},
   "outputs": [],
   "source": []
  }
 ],
 "metadata": {
  "kernelspec": {
   "display_name": "Python [conda env:kaggle] *",
   "language": "python",
   "name": "conda-env-kaggle-py"
  },
  "language_info": {
   "codemirror_mode": {
    "name": "ipython",
    "version": 3
   },
   "file_extension": ".py",
   "mimetype": "text/x-python",
   "name": "python",
   "nbconvert_exporter": "python",
   "pygments_lexer": "ipython3",
   "version": "3.7.6"
  }
 },
 "nbformat": 4,
 "nbformat_minor": 4
}
