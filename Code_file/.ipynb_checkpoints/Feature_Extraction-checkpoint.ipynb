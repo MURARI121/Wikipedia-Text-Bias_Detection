{
 "cells": [
  {
   "cell_type": "code",
   "execution_count": 1,
   "metadata": {},
   "outputs": [],
   "source": [
    "import numpy as np # linear algebra\n",
    "import pandas as pd\n",
    "import nltk\n",
    "import string\n",
    "from nltk.corpus import stopwords\n",
    "from nltk import sent_tokenize, word_tokenize, TweetTokenizer \n",
    "from nltk import word_tokenize\n",
    "from nltk.stem import WordNetLemmatizer\n",
    "import re\n",
    "wordnet_lemmatizer = WordNetLemmatizer()\n",
    "import spacy\n",
    "nlp = spacy.load('en_core_web_sm')\n",
    "from afinn import Afinn\n",
    "af = Afinn()"
   ]
  },
  {
   "cell_type": "code",
   "execution_count": 2,
   "metadata": {},
   "outputs": [],
   "source": [
    "text_processed=pd.read_csv(\"../Data/text_processed.csv\")"
   ]
  },
  {
   "cell_type": "code",
   "execution_count": 3,
   "metadata": {},
   "outputs": [],
   "source": [
    "df = pd.DataFrame()"
   ]
  },
  {
   "cell_type": "code",
   "execution_count": 4,
   "metadata": {},
   "outputs": [],
   "source": [
    "df['text']=text_processed['before']"
   ]
  },
  {
   "cell_type": "code",
   "execution_count": 5,
   "metadata": {},
   "outputs": [],
   "source": [
    "l=['positive','strong_subjectives','implicatives','npov_word','factives','assertives',\n",
    "   'weak_subjectives','hedges','entailment','negative','report_verbs']"
   ]
  },
  {
   "cell_type": "code",
   "execution_count": 6,
   "metadata": {},
   "outputs": [],
   "source": [
    "for k in l:\n",
    "    data=pd.read_csv('../Data/'+k+'.csv')\n",
    "    p=list(data.iloc[:,0])\n",
    "    lexi=[]\n",
    "    for i in range(len(text_processed)):\n",
    "        t=text_processed['before'][i].split()\n",
    "        text=[\"True\" if i in p else \"False\" for i in t]\n",
    "        text=' '.join(text)\n",
    "        lexi.append(text)   \n",
    "    df[k]=lexi\n"
   ]
  },
  {
   "cell_type": "code",
   "execution_count": 7,
   "metadata": {},
   "outputs": [],
   "source": [
    "pos_before=[]\n",
    "for i in range(len(text_processed)):\n",
    "    t=text_processed['before'][i].split()\n",
    "    tagged = nltk.pos_tag(t) \n",
    "    pos=[j[1] for j in tagged]\n",
    "    pos=' '.join(pos)\n",
    "    pos =pos.strip()\n",
    "    pos_before.append(pos)\n",
    "df['POS']=pos_before"
   ]
  },
  {
   "cell_type": "code",
   "execution_count": 8,
   "metadata": {},
   "outputs": [],
   "source": [
    "lemma=[]\n",
    "for i in range(len(text_processed)):\n",
    "    t=text_processed['before'][i].split()\n",
    "    text = [wordnet_lemmatizer.lemmatize(word) for word in t]\n",
    "    text=' '.join(text)\n",
    "    text =text.strip()\n",
    "    lemma.append(text)\n",
    "df['lemma']=lemma\n"
   ]
  },
  {
   "cell_type": "code",
   "execution_count": 9,
   "metadata": {},
   "outputs": [],
   "source": [
    "position=[]\n",
    "for i in range(len(text_processed)):\n",
    "    t=text_processed['before'][i].split()\n",
    "    l=len(t)\n",
    "    text = ['start' if i<int(l/3) else 'end' if i>=int(2*l/3) else 'mid' for i in range(l)]\n",
    "    text=' '.join(text)\n",
    "    text =text.strip()\n",
    "    position.append(text)\n",
    "df['position']=position"
   ]
  },
  {
   "cell_type": "code",
   "execution_count": 10,
   "metadata": {},
   "outputs": [],
   "source": [
    "grammatical=[]\n",
    "for i in range(len(text_processed)):\n",
    "    t=nlp(text_processed['before'][i])\n",
    "    text = [word.dep_ for word in t]\n",
    "    text=' '.join(text)\n",
    "    text =text.strip()\n",
    "    grammatical.append(text)\n",
    "df['grammatical']=grammatical"
   ]
  },
  {
   "cell_type": "code",
   "execution_count": 11,
   "metadata": {},
   "outputs": [],
   "source": [
    "polarity=[]\n",
    "for i in range(len(text_processed)):\n",
    "    t=text_processed['before'][i].split()\n",
    "    sentiment_scores = [af.score(i) for i in t]\n",
    "    text = ['negative' if i<0 else 'positive' if i>0 else 'neutral' for i in sentiment_scores]\n",
    "    text=' '.join(text)\n",
    "    text =text.strip()\n",
    "    polarity.append(text)\n",
    "df['polarity']=polarity"
   ]
  },
  {
   "cell_type": "code",
   "execution_count": 12,
   "metadata": {},
   "outputs": [],
   "source": [
    "df.to_csv('../Data/feature.csv',index=None)"
   ]
  },
  {
   "cell_type": "code",
   "execution_count": null,
   "metadata": {},
   "outputs": [],
   "source": []
  }
 ],
 "metadata": {
  "kernelspec": {
   "display_name": "Python [conda env:kaggle] *",
   "language": "python",
   "name": "conda-env-kaggle-py"
  },
  "language_info": {
   "codemirror_mode": {
    "name": "ipython",
    "version": 3
   },
   "file_extension": ".py",
   "mimetype": "text/x-python",
   "name": "python",
   "nbconvert_exporter": "python",
   "pygments_lexer": "ipython3",
   "version": "3.7.6"
  }
 },
 "nbformat": 4,
 "nbformat_minor": 4
}
